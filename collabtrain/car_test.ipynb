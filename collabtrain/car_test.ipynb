{
  "nbformat": 4,
  "nbformat_minor": 0,
  "metadata": {
    "colab": {
      "name": "car_test.ipynb",
      "provenance": [],
      "collapsed_sections": []
    },
    "kernelspec": {
      "name": "python3",
      "display_name": "Python 3"
    },
    "accelerator": "GPU"
  },
  "cells": [
    {
      "cell_type": "markdown",
      "metadata": {
        "id": "wHBQcQzjD6HJ"
      },
      "source": [
        "**Connect google drive**"
      ]
    },
    {
      "cell_type": "code",
      "metadata": {
        "id": "bwp6NIrsZZFP"
      },
      "source": [
        "# Check if NVIDIA GPU is enabled\n",
        "!nvidia-smi"
      ],
      "execution_count": null,
      "outputs": []
    },
    {
      "cell_type": "code",
      "metadata": {
        "id": "9e9ZW3sqMEPO"
      },
      "source": [
        "!sudo add-apt-repository -y ppa:alessandro-strada/ppa 2>&1 > /dev/null\n",
        "!sudo apt-get update -qq 2>&1 > /dev/null\n",
        "!sudo apt -y install -qq google-drive-ocamlfuse 2>&1 > /dev/null\n",
        "!google-drive-ocamlfuse"
      ],
      "execution_count": null,
      "outputs": []
    },
    {
      "cell_type": "code",
      "source": [
        "!sudo apt-get install -qq w3m # to act as web browser \n",
        "!xdg-settings set default-web-browser w3m.desktop # to set default browser\n",
        "%cd /content\n",
        "!mkdir drive\n",
        "%cd drive\n",
        "!mkdir MyDrive\n",
        "%cd ..\n",
        "%cd ..\n",
        "!google-drive-ocamlfuse /content/drive/MyDrive"
      ],
      "metadata": {
        "id": "8j4UI8J2AaOC"
      },
      "execution_count": null,
      "outputs": []
    },
    {
      "cell_type": "markdown",
      "metadata": {
        "id": "t7utW4in4azV"
      },
      "source": [
        "**1) Clone the Darknet**\n",
        "\n"
      ]
    },
    {
      "cell_type": "code",
      "metadata": {
        "id": "e03U7Zi-qMr2"
      },
      "source": [
        "!git clone https://github.com/AlexeyAB/darknet"
      ],
      "execution_count": null,
      "outputs": []
    },
    {
      "cell_type": "markdown",
      "metadata": {
        "id": "7gDOF3mU-TAn"
      },
      "source": [
        "**2) Compile Darknet using Nvidia GPU**\n"
      ]
    },
    {
      "cell_type": "code",
      "metadata": {
        "id": "5H-Taj06Tw1c"
      },
      "source": [
        "# change makefile to have GPU and OPENCV enabled\n",
        "%cd darknet\n",
        "!sed -i 's/OPENCV=0/OPENCV=1/' Makefile\n",
        "!sed -i 's/GPU=0/GPU=1/' Makefile\n",
        "!sed -i 's/CUDNN=0/CUDNN=1/' Makefile\n",
        "!make"
      ],
      "execution_count": null,
      "outputs": []
    },
    {
      "cell_type": "markdown",
      "metadata": {
        "id": "gAOLtA_qI9vF"
      },
      "source": [
        "**3) Configure Darknet network for training YOLO V3**\n",
        "\n",
        "**NOTE:**\n",
        "\n",
        "FILTER = (c+5)*3\n",
        "\n",
        "max_batches = c*2000 (unless it's smaller than 6000)\n",
        "\n",
        "steps = %80, %90*max_batches\n"
      ]
    },
    {
      "cell_type": "code",
      "metadata": {
        "id": "s-RpscgU853t"
      },
      "source": [
        "!cp cfg/yolov3-spp.cfg cfg/yolov3_training.cfg"
      ],
      "execution_count": null,
      "outputs": []
    },
    {
      "cell_type": "code",
      "metadata": {
        "id": "5ZgVQRop_vwR"
      },
      "source": [
        "!sed -i 's/batch=1/batch=64/' cfg/yolov3_training.cfg\n",
        "!sed -i 's/subdivisions=1/subdivisions=32/' cfg/yolov3_training.cfg\n",
        "!sed -i 's/max_batches = 500200/max_batches = 6000/' cfg/yolov3_training.cfg\n",
        "!sed -i 's/steps=400000,450000/steps=4800,5400/' cfg/yolov3_training.cfg\n",
        "!sed -i '610 s@classes=80@classes=1@' cfg/yolov3_training.cfg\n",
        "!sed -i '696 s@classes=80@classes=1@' cfg/yolov3_training.cfg\n",
        "!sed -i '783 s@classes=80@classes=1@' cfg/yolov3_training.cfg\n",
        "!sed -i '603 s@filters=255@filters=18@' cfg/yolov3_training.cfg\n",
        "!sed -i '689 s@filters=255@filters=18@' cfg/yolov3_training.cfg\n",
        "!sed -i '776 s@filters=255@filters=18@' cfg/yolov3_training.cfg\n",
        "!sed -i '776 s@width=416@width=416@' cfg/yolov3_training.cfg\n",
        "!sed -i '776 s@height=416@height=416@' cfg/yolov3_training.cfg"
      ],
      "execution_count": null,
      "outputs": []
    },
    {
      "cell_type": "code",
      "metadata": {
        "id": "7AIBw_psIclz"
      },
      "source": [
        "!printf \"car\\n\" > data/obj.names\n",
        "!echo -e 'classes= 1\\ntrain  = data/train.txt\\nnames = data/obj.names\\nbackup = /content/drive/MyDrive/weights/car_test/car_test_416' > data/obj.data\n",
        "!mkdir data/obj"
      ],
      "execution_count": null,
      "outputs": []
    },
    {
      "cell_type": "code",
      "metadata": {
        "id": "eZlkzFMW7I_N"
      },
      "source": [
        "# Download weights darknet model 53\n",
        "!wget https://pjreddie.com/media/files/darknet53.conv.74"
      ],
      "execution_count": null,
      "outputs": []
    },
    {
      "cell_type": "code",
      "metadata": {
        "id": "Hd1oNele2V24"
      },
      "source": [
        "!mkdir /content/images/\n",
        "\n",
        "import glob, os\n",
        "zip_list = glob.glob(\"/content/drive/MyDrive/dataset/car_test/*.zip\")\n",
        "rar_list = glob.glob(\"/content/drive/MyDrive/dataset/car_test/*.rar\")\n",
        "\n",
        "for zip in zip_list:\n",
        "  print(zip, \" zip\")\n",
        "  os.system(\"unzip {} -d /content/images/\".format(zip))\n",
        "\n",
        "for rar in rar_list:\n",
        "  print(rar, \" rar\")\n",
        "  os.system(\"unrar e {} /content/images/\".format(rar))"
      ],
      "execution_count": null,
      "outputs": []
    },
    {
      "cell_type": "code",
      "metadata": {
        "id": "5I_0ht7ITMUu"
      },
      "source": [
        "import glob\n",
        "images_list = glob.glob(\"/content/images/*.jpg\")"
      ],
      "execution_count": null,
      "outputs": []
    },
    {
      "cell_type": "code",
      "metadata": {
        "id": "EzygoAtMSnon"
      },
      "source": [
        "#Create training.txt file\n",
        "file = open(\"data/train.txt\", \"w\") \n",
        "file.write(\"\\n\".join(images_list)) \n",
        "file.close() "
      ],
      "execution_count": null,
      "outputs": []
    },
    {
      "cell_type": "markdown",
      "metadata": {
        "id": "CeSiuLrXoAjc"
      },
      "source": [
        "\n",
        "\n",
        "**6) Start the training**\n",
        "\n",
        "darknet53.conv.74"
      ]
    },
    {
      "cell_type": "code",
      "metadata": {
        "id": "S3_g3jclUzMm"
      },
      "source": [
        "# Start the training\n",
        "!./darknet detector train data/obj.data cfg/yolov3_training.cfg darknet53.conv.74 -dont_show"
      ],
      "execution_count": null,
      "outputs": []
    }
  ]
}