{
  "nbformat": 4,
  "nbformat_minor": 0,
  "metadata": {
    "colab": {
      "name": "car_test.ipynb",
      "provenance": [],
      "collapsed_sections": []
    },
    "kernelspec": {
      "name": "python3",
      "display_name": "Python 3"
    },
    "accelerator": "GPU"
  },
  "cells": [
    {
      "cell_type": "markdown",
      "metadata": {
        "id": "wHBQcQzjD6HJ"
      },
      "source": [
        "**Connect google drive**"
      ]
    },
    {
      "cell_type": "code",
      "metadata": {
        "id": "bwp6NIrsZZFP"
      },
      "source": [
        "# Check if NVIDIA GPU is enabled\n",
        "!nvidia-smi"
      ],
      "execution_count": null,
      "outputs": []
    },
    {
      "cell_type": "code",
      "metadata": {
        "id": "9e9ZW3sqMEPO"
      },
      "source": [
        "!sudo add-apt-repository -y ppa:alessandro-strada/ppa 2>&1 > /dev/null\n",
        "!sudo apt-get update -qq 2>&1 > /dev/null\n",
        "!sudo apt -y install -qq google-drive-ocamlfuse 2>&1 > /dev/null\n",
        "!google-drive-ocamlfuse"
      ],
      "execution_count": null,
      "outputs": []
    },
    {
      "cell_type": "code",
      "source": [
        "!sudo apt-get install -qq w3m # to act as web browser \n",
        "!xdg-settings set default-web-browser w3m.desktop # to set default browser\n",
        "%cd /content\n",
        "!mkdir drive\n",
        "%cd drive\n",
        "!mkdir MyDrive\n",
        "%cd ..\n",
        "%cd ..\n",
        "!google-drive-ocamlfuse /content/drive/MyDrive"
      ],
      "metadata": {
        "id": "8j4UI8J2AaOC"
      },
      "execution_count": null,
      "outputs": []
    },
    {
      "cell_type": "markdown",
      "metadata": {
        "id": "t7utW4in4azV"
      },
      "source": [
        "**1) Clone the YoloR**\n",
        "\n"
      ]
    },
    {
      "cell_type": "code",
      "metadata": {
        "id": "e03U7Zi-qMr2"
      },
      "source": [
        "!git clone https://github.com/WongKinYiu/yolor\n",
        "%cd yolor"
      ],
      "execution_count": null,
      "outputs": []
    },
    {
      "cell_type": "markdown",
      "metadata": {
        "id": "7gDOF3mU-TAn"
      },
      "source": [
        "**2) Install Necessary Dependencies**\n",
        "\n",
        "\n"
      ]
    },
    {
      "cell_type": "code",
      "metadata": {
        "id": "5H-Taj06Tw1c"
      },
      "source": [
        "!pip install -qr requirements.txt\n",
        "\n",
        "!git clone https://github.com/JunnYu/mish-cuda\n",
        "%cd mish-cuda\n",
        "!git reset --hard 6f38976064cbcc4782f4212d7c0c5f6dd5e315a8\n",
        "!python setup.py build install\n",
        "%cd ..\n",
        "\n",
        "!git clone https://github.com/fbcotter/pytorch_wavelets\n",
        "%cd pytorch_wavelets\n",
        "!pip install .\n",
        "%cd .."
      ],
      "execution_count": null,
      "outputs": []
    },
    {
      "cell_type": "markdown",
      "metadata": {
        "id": "gAOLtA_qI9vF"
      },
      "source": [
        "**3) Configure for Training YOLOR**\n",
        "\n",
        "**NOTE:**\n",
        "\n",
        "FILTER = (c+5)*3\n",
        "\n",
        "max_batches = c*2000 (unless it's smaller than 6000)\n",
        "\n",
        "steps = %80, %90*max_batches\n"
      ]
    },
    {
      "cell_type": "code",
      "metadata": {
        "id": "s-RpscgU853t"
      },
      "source": [
        "%cd yolor\n",
        "!cp cfg/yolor_p6.cfg cfg/yolo_training.cfg"
      ],
      "execution_count": null,
      "outputs": []
    },
    {
      "cell_type": "code",
      "metadata": {
        "id": "5ZgVQRop_vwR"
      },
      "source": [
        "!sed -i 's/subdivisions=8/subdivisions=8/' cfg/yolo_training.cfg\n",
        "!sed -i 's/max_batches = 500500/max_batches = 6000/' cfg/yolo_training.cfg\n",
        "!sed -i 's/steps=400000,450000/steps=4800,5400/' cfg/yolo_training.cfg\n",
        "\n",
        "!sed -i '1614 s@classes=80@classes=1@' cfg/yolo_training.cfg\n",
        "!sed -i '1658 s@classes=80@classes=1@' cfg/yolo_training.cfg\n",
        "!sed -i '1702 s@classes=80@classes=1@' cfg/yolo_training.cfg\n",
        "!sed -i '1746 s@classes=80@classes=1@' cfg/yolo_training.cfg\n",
        "\n",
        "!sed -i '1605 s@filters=255@filters=18@' cfg/yolo_training.cfg\n",
        "!sed -i '1649 s@filters=255@filters=18@' cfg/yolo_training.cfg\n",
        "!sed -i '1693 s@filters=255@filters=18@' cfg/yolo_training.cfg\n",
        "!sed -i '1737 s@filters=255@filters=18@' cfg/yolo_training.cfg\n",
        "\n",
        "!sed -i '4 s@width=1280@width=416@' cfg/yolo_training.cfg\n",
        "!sed -i '5 s@height=1280@height=416@' cfg/yolo_training.cfg"
      ],
      "execution_count": null,
      "outputs": []
    },
    {
      "cell_type": "code",
      "source": [
        "!> /content/yolor/yolor.yaml\n",
        "!echo -e \"train: /content/images\\nnc: 1\\nnames: ['Car']\" > /content/yolor.yaml"
      ],
      "metadata": {
        "id": "JTaEarsm8I4I"
      },
      "execution_count": null,
      "outputs": []
    },
    {
      "cell_type": "markdown",
      "source": [
        "**4) Prepare Dataset**"
      ],
      "metadata": {
        "id": "LCGZcZiF7xWx"
      }
    },
    {
      "cell_type": "code",
      "metadata": {
        "id": "Hd1oNele2V24"
      },
      "source": [
        "!mkdir /content/images/\n",
        "\n",
        "import glob, os\n",
        "zip_list = glob.glob(\"/content/drive/MyDrive/dataset/car_test/*.zip\")\n",
        "rar_list = glob.glob(\"/content/drive/MyDrive/dataset/car_test/*.rar\")\n",
        "\n",
        "for zip in zip_list:\n",
        "  print(zip, \" zip\")\n",
        "  os.system(\"unzip {} -d /content/images/\".format(zip))\n",
        "\n",
        "for rar in rar_list:\n",
        "  print(rar, \" rar\")\n",
        "  os.system(\"unrar e {} /content/images/\".format(rar))"
      ],
      "execution_count": null,
      "outputs": []
    },
    {
      "cell_type": "markdown",
      "source": [
        "**5) Pretrain**"
      ],
      "metadata": {
        "id": "TiT-jTjg7uYr"
      }
    },
    {
      "cell_type": "code",
      "source": [
        "%cd /content/yolor\n",
        "!bash scripts/get_pretrain.sh"
      ],
      "metadata": {
        "id": "8810dvLm7t14"
      },
      "execution_count": null,
      "outputs": []
    },
    {
      "cell_type": "code",
      "source": [
        "%pip install -q wandb\n",
        "import wandb\n",
        "wandb.login()"
      ],
      "metadata": {
        "id": "5ShYTSaM7sF-"
      },
      "execution_count": null,
      "outputs": []
    },
    {
      "cell_type": "markdown",
      "metadata": {
        "id": "CeSiuLrXoAjc"
      },
      "source": [
        "\n",
        "\n",
        "**6) Start the Training**"
      ]
    },
    {
      "cell_type": "code",
      "metadata": {
        "id": "S3_g3jclUzMm"
      },
      "source": [
        "%cd /content/yolor\n",
        "!python train.py --batch-size 1 --img 416 416 --data '/content/yolor/yolor.yaml' --cfg /content/yolor/yolo_training.cfg --weights '/content/yolor/yolor_p6.pt' --device 0 --name yolor_p6 --hyp '/content/yolor/data/hyp.scratch.1280.yaml' --epochs 30"
      ],
      "execution_count": null,
      "outputs": []
    }
  ]
}