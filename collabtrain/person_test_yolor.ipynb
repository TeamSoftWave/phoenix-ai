{
  "nbformat": 4,
  "nbformat_minor": 0,
  "metadata": {
    "colab": {
      "name": "car_test.ipynb",
      "provenance": [],
      "collapsed_sections": []
    },
    "kernelspec": {
      "name": "python3",
      "display_name": "Python 3"
    },
    "accelerator": "GPU"
  },
  "cells": [
    {
      "cell_type": "markdown",
      "metadata": {
        "id": "wHBQcQzjD6HJ"
      },
      "source": [
        "**0)Connect google drive**"
      ]
    },
    {
      "cell_type": "code",
      "metadata": {
        "id": "bwp6NIrsZZFP",
        "colab": {
          "base_uri": "https://localhost:8080/"
        },
        "outputId": "e50c1daa-55bf-4139-c2ae-1020bfafa2e8"
      },
      "source": [
        "!nvidia-smi"
      ],
      "execution_count": 1,
      "outputs": [
        {
          "output_type": "stream",
          "name": "stdout",
          "text": [
            "Tue Apr 12 18:52:40 2022       \n",
            "+-----------------------------------------------------------------------------+\n",
            "| NVIDIA-SMI 460.32.03    Driver Version: 460.32.03    CUDA Version: 11.2     |\n",
            "|-------------------------------+----------------------+----------------------+\n",
            "| GPU  Name        Persistence-M| Bus-Id        Disp.A | Volatile Uncorr. ECC |\n",
            "| Fan  Temp  Perf  Pwr:Usage/Cap|         Memory-Usage | GPU-Util  Compute M. |\n",
            "|                               |                      |               MIG M. |\n",
            "|===============================+======================+======================|\n",
            "|   0  Tesla T4            Off  | 00000000:00:04.0 Off |                    0 |\n",
            "| N/A   34C    P8     9W /  70W |      0MiB / 15109MiB |      0%      Default |\n",
            "|                               |                      |                  N/A |\n",
            "+-------------------------------+----------------------+----------------------+\n",
            "                                                                               \n",
            "+-----------------------------------------------------------------------------+\n",
            "| Processes:                                                                  |\n",
            "|  GPU   GI   CI        PID   Type   Process name                  GPU Memory |\n",
            "|        ID   ID                                                   Usage      |\n",
            "|=============================================================================|\n",
            "|  No running processes found                                                 |\n",
            "+-----------------------------------------------------------------------------+\n"
          ]
        }
      ]
    },
    {
      "cell_type": "code",
      "metadata": {
        "id": "9e9ZW3sqMEPO",
        "colab": {
          "base_uri": "https://localhost:8080/"
        },
        "outputId": "9cd043bd-0c74-4fd6-ee3a-10e13f565712"
      },
      "source": [
        "!sudo add-apt-repository -y ppa:alessandro-strada/ppa 2>&1 > /dev/null\n",
        "!sudo apt-get update -qq 2>&1 > /dev/null\n",
        "!sudo apt -y install -qq google-drive-ocamlfuse 2>&1 > /dev/null\n",
        "!google-drive-ocamlfuse"
      ],
      "execution_count": 2,
      "outputs": [
        {
          "output_type": "stream",
          "name": "stdout",
          "text": [
            "\n",
            "WARNING: apt does not have a stable CLI interface. Use with caution in scripts.\n",
            "\n",
            "debconf: unable to initialize frontend: Dialog\n",
            "debconf: (No usable dialog-like program is installed, so the dialog based frontend cannot be used. at /usr/share/perl5/Debconf/FrontEnd/Dialog.pm line 76, <> line 1.)\n",
            "debconf: falling back to frontend: Readline\n",
            "debconf: unable to initialize frontend: Readline\n",
            "debconf: (This frontend requires a controlling tty.)\n",
            "debconf: falling back to frontend: Teletype\n",
            "dpkg-preconfigure: unable to re-open stdin: \n",
            "/usr/bin/xdg-open: 851: /usr/bin/xdg-open: www-browser: not found\n",
            "/usr/bin/xdg-open: 851: /usr/bin/xdg-open: links2: not found\n",
            "/usr/bin/xdg-open: 851: /usr/bin/xdg-open: elinks: not found\n",
            "/usr/bin/xdg-open: 851: /usr/bin/xdg-open: links: not found\n",
            "/usr/bin/xdg-open: 851: /usr/bin/xdg-open: lynx: not found\n",
            "/usr/bin/xdg-open: 851: /usr/bin/xdg-open: w3m: not found\n",
            "xdg-open: no method available for opening 'https://accounts.google.com/o/oauth2/auth?client_id=564921029129.apps.googleusercontent.com&redirect_uri=https%3A%2F%2Fgd-ocaml-auth.appspot.com%2Foauth2callback&scope=https%3A%2F%2Fwww.googleapis.com%2Fauth%2Fdrive&response_type=code&access_type=offline&approval_prompt=force&state=GQOB95VdpFQsH6RuD2osVIN7a6c7jL7hPgGHYCMgs7k'\n",
            "/bin/sh: 1: firefox: not found\n",
            "/bin/sh: 1: google-chrome: not found\n",
            "/bin/sh: 1: chromium-browser: not found\n",
            "/bin/sh: 1: open: not found\n",
            "Cannot retrieve auth tokens.\n",
            "Failure(\"Error opening URL:https://accounts.google.com/o/oauth2/auth?client_id=564921029129.apps.googleusercontent.com&redirect_uri=https%3A%2F%2Fgd-ocaml-auth.appspot.com%2Foauth2callback&scope=https%3A%2F%2Fwww.googleapis.com%2Fauth%2Fdrive&response_type=code&access_type=offline&approval_prompt=force&state=GQOB95VdpFQsH6RuD2osVIN7a6c7jL7hPgGHYCMgs7k\")\n"
          ]
        }
      ]
    },
    {
      "cell_type": "code",
      "source": [
        "!sudo apt-get install -qq w3m\n",
        "!xdg-settings set default-web-browser w3m.desktop\n",
        "%cd /content\n",
        "!mkdir drive\n",
        "%cd drive\n",
        "!mkdir MyDrive\n",
        "%cd ..\n",
        "%cd ..\n",
        "!google-drive-ocamlfuse /content/drive/MyDrive"
      ],
      "metadata": {
        "id": "8j4UI8J2AaOC",
        "colab": {
          "base_uri": "https://localhost:8080/"
        },
        "outputId": "32ce35c2-5fb1-45a0-850b-3a2a03f088be"
      },
      "execution_count": 3,
      "outputs": [
        {
          "output_type": "stream",
          "name": "stdout",
          "text": [
            "debconf: unable to initialize frontend: Dialog\n",
            "debconf: (No usable dialog-like program is installed, so the dialog based frontend cannot be used. at /usr/share/perl5/Debconf/FrontEnd/Dialog.pm line 76, <> line 2.)\n",
            "debconf: falling back to frontend: Readline\n",
            "debconf: unable to initialize frontend: Readline\n",
            "debconf: (This frontend requires a controlling tty.)\n",
            "debconf: falling back to frontend: Teletype\n",
            "dpkg-preconfigure: unable to re-open stdin: \n",
            "Selecting previously unselected package libgpm2:amd64.\n",
            "(Reading database ... \r(Reading database ... 5%\r(Reading database ... 10%\r(Reading database ... 15%\r(Reading database ... 20%\r(Reading database ... 25%\r(Reading database ... 30%\r(Reading database ... 35%\r(Reading database ... 40%\r(Reading database ... 45%\r(Reading database ... 50%\r(Reading database ... 55%\r(Reading database ... 60%\r(Reading database ... 65%\r(Reading database ... 70%\r(Reading database ... 75%\r(Reading database ... 80%\r(Reading database ... 85%\r(Reading database ... 90%\r(Reading database ... 95%\r(Reading database ... 100%\r(Reading database ... 155460 files and directories currently installed.)\n",
            "Preparing to unpack .../libgpm2_1.20.7-5_amd64.deb ...\n",
            "Unpacking libgpm2:amd64 (1.20.7-5) ...\n",
            "Selecting previously unselected package w3m.\n",
            "Preparing to unpack .../w3m_0.5.3-36build1_amd64.deb ...\n",
            "Unpacking w3m (0.5.3-36build1) ...\n",
            "Setting up libgpm2:amd64 (1.20.7-5) ...\n",
            "Setting up w3m (0.5.3-36build1) ...\n",
            "Processing triggers for mime-support (3.60ubuntu1) ...\n",
            "Processing triggers for libc-bin (2.27-3ubuntu1.3) ...\n",
            "/sbin/ldconfig.real: /usr/local/lib/python3.7/dist-packages/ideep4py/lib/libmkldnn.so.0 is not a symbolic link\n",
            "\n",
            "Processing triggers for man-db (2.8.3-2ubuntu0.1) ...\n",
            "/content\n",
            "/content/drive\n",
            "/content\n",
            "/\n",
            "Access token retrieved correctly.\n"
          ]
        }
      ]
    },
    {
      "cell_type": "markdown",
      "metadata": {
        "id": "t7utW4in4azV"
      },
      "source": [
        "**1) Clone the YoloR**\n",
        "\n"
      ]
    },
    {
      "cell_type": "code",
      "metadata": {
        "id": "e03U7Zi-qMr2",
        "colab": {
          "base_uri": "https://localhost:8080/"
        },
        "outputId": "d39f3bb5-9654-4de8-e3e7-c618d6df9b72"
      },
      "source": [
        "!git clone https://github.com/WongKinYiu/yolor\n",
        "%cd yolor"
      ],
      "execution_count": 4,
      "outputs": [
        {
          "output_type": "stream",
          "name": "stdout",
          "text": [
            "Cloning into 'yolor'...\n",
            "remote: Enumerating objects: 492, done.\u001b[K\n",
            "remote: Counting objects: 100% (3/3), done.\u001b[K\n",
            "remote: Compressing objects: 100% (3/3), done.\u001b[K\n",
            "remote: Total 492 (delta 0), reused 1 (delta 0), pack-reused 489\u001b[K\n",
            "Receiving objects: 100% (492/492), 3.43 MiB | 28.53 MiB/s, done.\n",
            "Resolving deltas: 100% (225/225), done.\n",
            "/yolor\n"
          ]
        }
      ]
    },
    {
      "cell_type": "markdown",
      "metadata": {
        "id": "7gDOF3mU-TAn"
      },
      "source": [
        "**2) Install Necessary Dependencies**\n",
        "\n",
        "\n"
      ]
    },
    {
      "cell_type": "code",
      "metadata": {
        "id": "5H-Taj06Tw1c",
        "colab": {
          "base_uri": "https://localhost:8080/"
        },
        "outputId": "338150cf-d603-431d-83b7-f448cb5bb777"
      },
      "source": [
        "!pip install -qr requirements.txt"
      ],
      "execution_count": 5,
      "outputs": [
        {
          "output_type": "stream",
          "name": "stdout",
          "text": [
            "\u001b[K     |████████████████████████████████| 596 kB 10.0 MB/s \n",
            "\u001b[K     |████████████████████████████████| 776.7 MB 4.6 kB/s \n",
            "\u001b[K     |████████████████████████████████| 12.7 MB 20.3 MB/s \n",
            "\u001b[K     |████████████████████████████████| 1.5 MB 57.4 MB/s \n",
            "\u001b[?25h  Building wheel for pycocotools (setup.py) ... \u001b[?25l\u001b[?25hdone\n",
            "\u001b[31mERROR: pip's dependency resolver does not currently take into account all the packages that are installed. This behaviour is the source of the following dependency conflicts.\n",
            "torchtext 0.11.0 requires torch==1.10.0, but you have torch 1.7.0 which is incompatible.\n",
            "torchaudio 0.10.0+cu111 requires torch==1.10.0, but you have torch 1.7.0 which is incompatible.\u001b[0m\n",
            "Cloning into 'mish-cuda'...\n",
            "remote: Enumerating objects: 195, done.\u001b[K\n",
            "remote: Counting objects: 100% (88/88), done.\u001b[K\n",
            "remote: Compressing objects: 100% (75/75), done.\u001b[K\n",
            "remote: Total 195 (delta 7), reused 79 (delta 3), pack-reused 107\u001b[K\n",
            "Receiving objects: 100% (195/195), 208.77 KiB | 12.28 MiB/s, done.\n",
            "Resolving deltas: 100% (56/56), done.\n",
            "/yolor/mish-cuda\n",
            "HEAD is now at 6f38976 Update README.md\n",
            "/usr/lib/python3.7/distutils/extension.py:131: UserWarning: Unknown Extension options: 'headers'\n",
            "  warnings.warn(msg)\n",
            "running build\n",
            "running build_py\n",
            "creating build\n",
            "creating build/lib.linux-x86_64-3.7\n",
            "creating build/lib.linux-x86_64-3.7/mish_cuda\n",
            "copying src/mish_cuda/__init__.py -> build/lib.linux-x86_64-3.7/mish_cuda\n",
            "running egg_info\n",
            "creating src/mish_cuda.egg-info\n",
            "writing src/mish_cuda.egg-info/PKG-INFO\n",
            "writing dependency_links to src/mish_cuda.egg-info/dependency_links.txt\n",
            "writing requirements to src/mish_cuda.egg-info/requires.txt\n",
            "writing top-level names to src/mish_cuda.egg-info/top_level.txt\n",
            "writing manifest file 'src/mish_cuda.egg-info/SOURCES.txt'\n",
            "/usr/local/lib/python3.7/dist-packages/torch/utils/cpp_extension.py:339: UserWarning: Attempted to use ninja as the BuildExtension backend but we could not find ninja.. Falling back to using the slow distutils backend.\n",
            "  warnings.warn(msg.format('we could not find ninja.'))\n",
            "adding license file 'LICENSE'\n",
            "writing manifest file 'src/mish_cuda.egg-info/SOURCES.txt'\n",
            "running build_ext\n",
            "building 'mish_cuda._C' extension\n",
            "creating build/temp.linux-x86_64-3.7\n",
            "creating build/temp.linux-x86_64-3.7/csrc\n",
            "creating build/temp.linux-x86_64-3.7/csrc/cpu\n",
            "creating build/temp.linux-x86_64-3.7/csrc/cuda\n",
            "x86_64-linux-gnu-gcc -pthread -Wno-unused-result -Wsign-compare -DNDEBUG -g -fwrapv -O2 -Wall -g -fdebug-prefix-map=/build/python3.7-dIfpci/python3.7-3.7.13=. -fstack-protector-strong -Wformat -Werror=format-security -g -fdebug-prefix-map=/build/python3.7-dIfpci/python3.7-3.7.13=. -fstack-protector-strong -Wformat -Werror=format-security -Wdate-time -D_FORTIFY_SOURCE=2 -fPIC -I/usr/local/lib/python3.7/dist-packages/torch/include -I/usr/local/lib/python3.7/dist-packages/torch/include/torch/csrc/api/include -I/usr/local/lib/python3.7/dist-packages/torch/include/TH -I/usr/local/lib/python3.7/dist-packages/torch/include/THC -I/usr/local/cuda/include -I/usr/include/python3.7m -c csrc/cpu/mish_cpu.cpp -o build/temp.linux-x86_64-3.7/csrc/cpu/mish_cpu.o -DTORCH_API_INCLUDE_EXTENSION_H -DTORCH_EXTENSION_NAME=_C -D_GLIBCXX_USE_CXX11_ABI=0 -std=c++14\n",
            "In file included from \u001b[01m\u001b[K/usr/local/lib/python3.7/dist-packages/torch/include/ATen/Parallel.h:149:0\u001b[m\u001b[K,\n",
            "                 from \u001b[01m\u001b[K/usr/local/lib/python3.7/dist-packages/torch/include/ATen/CPUApplyUtils.h:3\u001b[m\u001b[K,\n",
            "                 from \u001b[01m\u001b[Kcsrc/cpu/mish_cpu.cpp:3\u001b[m\u001b[K:\n",
            "\u001b[01m\u001b[K/usr/local/lib/python3.7/dist-packages/torch/include/ATen/ParallelOpenMP.h:84:0:\u001b[m\u001b[K \u001b[01;35m\u001b[Kwarning: \u001b[m\u001b[Kignoring #pragma omp parallel [\u001b[01;35m\u001b[K-Wunknown-pragmas\u001b[m\u001b[K]\n",
            " #pragma omp parallel for if ((end - begin) >= grain_size)\n",
            " \n",
            "x86_64-linux-gnu-gcc -pthread -Wno-unused-result -Wsign-compare -DNDEBUG -g -fwrapv -O2 -Wall -g -fdebug-prefix-map=/build/python3.7-dIfpci/python3.7-3.7.13=. -fstack-protector-strong -Wformat -Werror=format-security -g -fdebug-prefix-map=/build/python3.7-dIfpci/python3.7-3.7.13=. -fstack-protector-strong -Wformat -Werror=format-security -Wdate-time -D_FORTIFY_SOURCE=2 -fPIC -I/usr/local/lib/python3.7/dist-packages/torch/include -I/usr/local/lib/python3.7/dist-packages/torch/include/torch/csrc/api/include -I/usr/local/lib/python3.7/dist-packages/torch/include/TH -I/usr/local/lib/python3.7/dist-packages/torch/include/THC -I/usr/local/cuda/include -I/usr/include/python3.7m -c csrc/cuda/mish_cuda.cpp -o build/temp.linux-x86_64-3.7/csrc/cuda/mish_cuda.o -DTORCH_API_INCLUDE_EXTENSION_H -DTORCH_EXTENSION_NAME=_C -D_GLIBCXX_USE_CXX11_ABI=0 -std=c++14\n",
            "In file included from \u001b[01m\u001b[K/usr/local/lib/python3.7/dist-packages/torch/include/ATen/Parallel.h:149:0\u001b[m\u001b[K,\n",
            "                 from \u001b[01m\u001b[K/usr/local/lib/python3.7/dist-packages/torch/include/torch/csrc/api/include/torch/utils.h:3\u001b[m\u001b[K,\n",
            "                 from \u001b[01m\u001b[K/usr/local/lib/python3.7/dist-packages/torch/include/torch/csrc/api/include/torch/nn/cloneable.h:5\u001b[m\u001b[K,\n",
            "                 from \u001b[01m\u001b[K/usr/local/lib/python3.7/dist-packages/torch/include/torch/csrc/api/include/torch/nn.h:3\u001b[m\u001b[K,\n",
            "                 from \u001b[01m\u001b[K/usr/local/lib/python3.7/dist-packages/torch/include/torch/csrc/api/include/torch/all.h:12\u001b[m\u001b[K,\n",
            "                 from \u001b[01m\u001b[K/usr/local/lib/python3.7/dist-packages/torch/include/torch/extension.h:4\u001b[m\u001b[K,\n",
            "                 from \u001b[01m\u001b[Kcsrc/cuda/mish_cuda.cpp:2\u001b[m\u001b[K:\n",
            "\u001b[01m\u001b[K/usr/local/lib/python3.7/dist-packages/torch/include/ATen/ParallelOpenMP.h:84:0:\u001b[m\u001b[K \u001b[01;35m\u001b[Kwarning: \u001b[m\u001b[Kignoring #pragma omp parallel [\u001b[01;35m\u001b[K-Wunknown-pragmas\u001b[m\u001b[K]\n",
            " #pragma omp parallel for if ((end - begin) >= grain_size)\n",
            " \n",
            "/usr/local/cuda/bin/nvcc -I/usr/local/lib/python3.7/dist-packages/torch/include -I/usr/local/lib/python3.7/dist-packages/torch/include/torch/csrc/api/include -I/usr/local/lib/python3.7/dist-packages/torch/include/TH -I/usr/local/lib/python3.7/dist-packages/torch/include/THC -I/usr/local/cuda/include -I/usr/include/python3.7m -c csrc/cuda/mish_kernel.cu -o build/temp.linux-x86_64-3.7/csrc/cuda/mish_kernel.o -D__CUDA_NO_HALF_OPERATORS__ -D__CUDA_NO_HALF_CONVERSIONS__ -D__CUDA_NO_HALF2_OPERATORS__ --expt-relaxed-constexpr --compiler-options '-fPIC' --expt-extended-lambda -DTORCH_API_INCLUDE_EXTENSION_H -DTORCH_EXTENSION_NAME=_C -D_GLIBCXX_USE_CXX11_ABI=0 -gencode=arch=compute_75,code=sm_75 -std=c++14\n",
            "/usr/local/lib/python3.7/dist-packages/torch/include/ATen/core/boxing/impl/boxing.h(100): warning: integer conversion resulted in a change of sign\n",
            "\n",
            "/usr/local/lib/python3.7/dist-packages/torch/include/ATen/core/op_registration/op_whitelist.h(39): warning: integer conversion resulted in a change of sign\n",
            "\n",
            "/usr/local/lib/python3.7/dist-packages/torch/include/ATen/core/boxing/impl/boxing.h(100): warning: integer conversion resulted in a change of sign\n",
            "\n",
            "/usr/local/lib/python3.7/dist-packages/torch/include/ATen/core/op_registration/op_whitelist.h(39): warning: integer conversion resulted in a change of sign\n",
            "\n",
            "x86_64-linux-gnu-g++ -pthread -shared -Wl,-O1 -Wl,-Bsymbolic-functions -Wl,-Bsymbolic-functions -Wl,-z,relro -Wl,-Bsymbolic-functions -Wl,-z,relro -g -fdebug-prefix-map=/build/python3.7-dIfpci/python3.7-3.7.13=. -fstack-protector-strong -Wformat -Werror=format-security -Wdate-time -D_FORTIFY_SOURCE=2 build/temp.linux-x86_64-3.7/csrc/cpu/mish_cpu.o build/temp.linux-x86_64-3.7/csrc/cuda/mish_cuda.o build/temp.linux-x86_64-3.7/csrc/cuda/mish_kernel.o -L/usr/local/lib/python3.7/dist-packages/torch/lib -L/usr/local/cuda/lib64 -lc10 -ltorch -ltorch_cpu -ltorch_python -lcudart -lc10_cuda -ltorch_cuda -o build/lib.linux-x86_64-3.7/mish_cuda/_C.cpython-37m-x86_64-linux-gnu.so\n",
            "running install\n",
            "running bdist_egg\n",
            "installing library code to build/bdist.linux-x86_64/egg\n",
            "running install_lib\n",
            "creating build/bdist.linux-x86_64\n",
            "creating build/bdist.linux-x86_64/egg\n",
            "creating build/bdist.linux-x86_64/egg/mish_cuda\n",
            "copying build/lib.linux-x86_64-3.7/mish_cuda/__init__.py -> build/bdist.linux-x86_64/egg/mish_cuda\n",
            "copying build/lib.linux-x86_64-3.7/mish_cuda/_C.cpython-37m-x86_64-linux-gnu.so -> build/bdist.linux-x86_64/egg/mish_cuda\n",
            "byte-compiling build/bdist.linux-x86_64/egg/mish_cuda/__init__.py to __init__.cpython-37.pyc\n",
            "creating stub loader for mish_cuda/_C.cpython-37m-x86_64-linux-gnu.so\n",
            "byte-compiling build/bdist.linux-x86_64/egg/mish_cuda/_C.py to _C.cpython-37.pyc\n",
            "creating build/bdist.linux-x86_64/egg/EGG-INFO\n",
            "copying src/mish_cuda.egg-info/PKG-INFO -> build/bdist.linux-x86_64/egg/EGG-INFO\n",
            "copying src/mish_cuda.egg-info/SOURCES.txt -> build/bdist.linux-x86_64/egg/EGG-INFO\n",
            "copying src/mish_cuda.egg-info/dependency_links.txt -> build/bdist.linux-x86_64/egg/EGG-INFO\n",
            "copying src/mish_cuda.egg-info/not-zip-safe -> build/bdist.linux-x86_64/egg/EGG-INFO\n",
            "copying src/mish_cuda.egg-info/requires.txt -> build/bdist.linux-x86_64/egg/EGG-INFO\n",
            "copying src/mish_cuda.egg-info/top_level.txt -> build/bdist.linux-x86_64/egg/EGG-INFO\n",
            "writing build/bdist.linux-x86_64/egg/EGG-INFO/native_libs.txt\n",
            "creating dist\n",
            "creating 'dist/mish_cuda-0.0.3-py3.7-linux-x86_64.egg' and adding 'build/bdist.linux-x86_64/egg' to it\n",
            "removing 'build/bdist.linux-x86_64/egg' (and everything under it)\n",
            "Processing mish_cuda-0.0.3-py3.7-linux-x86_64.egg\n",
            "creating /usr/local/lib/python3.7/dist-packages/mish_cuda-0.0.3-py3.7-linux-x86_64.egg\n",
            "Extracting mish_cuda-0.0.3-py3.7-linux-x86_64.egg to /usr/local/lib/python3.7/dist-packages\n",
            "Adding mish-cuda 0.0.3 to easy-install.pth file\n",
            "\n",
            "Installed /usr/local/lib/python3.7/dist-packages/mish_cuda-0.0.3-py3.7-linux-x86_64.egg\n",
            "Processing dependencies for mish-cuda==0.0.3\n",
            "Searching for torch==1.7.0\n",
            "Best match: torch 1.7.0\n",
            "Adding torch 1.7.0 to easy-install.pth file\n",
            "Installing convert-caffe2-to-onnx script to /usr/local/bin\n",
            "Installing convert-onnx-to-caffe2 script to /usr/local/bin\n",
            "\n",
            "Using /usr/local/lib/python3.7/dist-packages\n",
            "Searching for future==0.16.0\n",
            "Best match: future 0.16.0\n",
            "Adding future 0.16.0 to easy-install.pth file\n",
            "Installing futurize script to /usr/local/bin\n",
            "Installing pasteurize script to /usr/local/bin\n",
            "\n",
            "Using /usr/local/lib/python3.7/dist-packages\n",
            "Searching for typing-extensions==3.10.0.2\n",
            "Best match: typing-extensions 3.10.0.2\n",
            "Adding typing-extensions 3.10.0.2 to easy-install.pth file\n",
            "\n",
            "Using /usr/local/lib/python3.7/dist-packages\n",
            "Searching for dataclasses==0.6\n",
            "Best match: dataclasses 0.6\n",
            "Adding dataclasses 0.6 to easy-install.pth file\n",
            "\n",
            "Using /usr/local/lib/python3.7/dist-packages\n",
            "Searching for numpy==1.21.5\n",
            "Best match: numpy 1.21.5\n",
            "Adding numpy 1.21.5 to easy-install.pth file\n",
            "Installing f2py script to /usr/local/bin\n",
            "Installing f2py3 script to /usr/local/bin\n",
            "Installing f2py3.7 script to /usr/local/bin\n",
            "\n",
            "Using /usr/local/lib/python3.7/dist-packages\n",
            "Finished processing dependencies for mish-cuda==0.0.3\n",
            "/yolor\n",
            "Cloning into 'pytorch_wavelets'...\n",
            "remote: Enumerating objects: 972, done.\u001b[K\n",
            "remote: Counting objects: 100% (136/136), done.\u001b[K\n",
            "remote: Compressing objects: 100% (91/91), done.\u001b[K\n",
            "remote: Total 972 (delta 75), reused 89 (delta 45), pack-reused 836\u001b[K\n",
            "Receiving objects: 100% (972/972), 6.80 MiB | 36.07 MiB/s, done.\n",
            "Resolving deltas: 100% (659/659), done.\n",
            "/yolor/pytorch_wavelets\n",
            "Processing /yolor/pytorch_wavelets\n",
            "\u001b[33m  DEPRECATION: A future pip version will change local packages to be built in-place without first copying to a temporary directory. We recommend you use --use-feature=in-tree-build to test your packages with this new behavior before it becomes the default.\n",
            "   pip 21.3 will remove support for this functionality. You can find discussion regarding this at https://github.com/pypa/pip/issues/7555.\u001b[0m\n",
            "Requirement already satisfied: numpy in /usr/local/lib/python3.7/dist-packages (from pytorch-wavelets==1.3.0) (1.21.5)\n",
            "Requirement already satisfied: six in /usr/local/lib/python3.7/dist-packages (from pytorch-wavelets==1.3.0) (1.15.0)\n",
            "Requirement already satisfied: torch in /usr/local/lib/python3.7/dist-packages (from pytorch-wavelets==1.3.0) (1.7.0)\n",
            "Requirement already satisfied: dataclasses in /usr/local/lib/python3.7/dist-packages (from torch->pytorch-wavelets==1.3.0) (0.6)\n",
            "Requirement already satisfied: future in /usr/local/lib/python3.7/dist-packages (from torch->pytorch-wavelets==1.3.0) (0.16.0)\n",
            "Requirement already satisfied: typing-extensions in /usr/local/lib/python3.7/dist-packages (from torch->pytorch-wavelets==1.3.0) (3.10.0.2)\n",
            "Building wheels for collected packages: pytorch-wavelets\n",
            "  Building wheel for pytorch-wavelets (setup.py) ... \u001b[?25l\u001b[?25hdone\n",
            "  Created wheel for pytorch-wavelets: filename=pytorch_wavelets-1.3.0-py3-none-any.whl size=54869 sha256=db9cd7332b97b7e7aa2d7fc018f89119ebdfa0243ddd7c3e7f9fef3e1ec9fcc1\n",
            "  Stored in directory: /tmp/pip-ephem-wheel-cache-tnlff3wh/wheels/a9/ef/b8/8644cfb8008769e4dadf016c956073b0d8a87affa6e9b97ff9\n",
            "Successfully built pytorch-wavelets\n",
            "Installing collected packages: pytorch-wavelets\n",
            "Successfully installed pytorch-wavelets-1.3.0\n",
            "/yolor\n"
          ]
        }
      ]
    },
    {
      "cell_type": "markdown",
      "metadata": {
        "id": "gAOLtA_qI9vF"
      },
      "source": [
        "**3) Configure for Training YOLOR**\n",
        "\n",
        "**NOTE:**\n",
        "\n",
        "FILTER = (c+5)*3\n",
        "\n",
        "max_batches = c*2000 (unless it's smaller than 6000)\n",
        "\n",
        "steps = %80, %90*max_batches\n"
      ]
    },
    {
      "cell_type": "code",
      "metadata": {
        "id": "s-RpscgU853t",
        "colab": {
          "base_uri": "https://localhost:8080/"
        },
        "outputId": "174bfc32-942b-4a8d-d3ba-e25833c856a1"
      },
      "source": [
        "%cd yolor\n",
        "!cp cfg/yolor_p6.cfg cfg/yolo_training.cfg"
      ],
      "execution_count": 6,
      "outputs": [
        {
          "output_type": "stream",
          "name": "stdout",
          "text": [
            "[Errno 2] No such file or directory: 'yolor'\n",
            "/yolor\n"
          ]
        }
      ]
    },
    {
      "cell_type": "code",
      "metadata": {
        "id": "5ZgVQRop_vwR"
      },
      "source": [
        "!sed -i 's/subdivisions=8/subdivisions=8/' cfg/yolo_training.cfg\n",
        "!sed -i 's/max_batches = 500500/max_batches = 6000/' cfg/yolo_training.cfg\n",
        "!sed -i 's/steps=400000,450000/steps=4800,5400/' cfg/yolo_training.cfg\n",
        "\n",
        "!sed -i '1614 s@classes=80@classes=1@' cfg/yolo_training.cfg\n",
        "!sed -i '1658 s@classes=80@classes=1@' cfg/yolo_training.cfg\n",
        "!sed -i '1702 s@classes=80@classes=1@' cfg/yolo_training.cfg\n",
        "!sed -i '1746 s@classes=80@classes=1@' cfg/yolo_training.cfg\n",
        "\n",
        "!sed -i '1569 s@filters=255@filters=18@' cfg/yolo_training.cfg\n",
        "!sed -i '1573 s@filters=255@filters=18@' cfg/yolo_training.cfg\n",
        "!sed -i '1577 s@filters=255@filters=18@' cfg/yolo_training.cfg\n",
        "!sed -i '1581 s@filters=255@filters=18@' cfg/yolo_training.cfg\n",
        "\n",
        "!sed -i '1605 s@filters=255@filters=18@' cfg/yolo_training.cfg\n",
        "!sed -i '1649 s@filters=255@filters=18@' cfg/yolo_training.cfg\n",
        "!sed -i '1693 s@filters=255@filters=18@' cfg/yolo_training.cfg\n",
        "!sed -i '1737 s@filters=255@filters=18@' cfg/yolo_training.cfg\n",
        "\n",
        "!sed -i '4 s@width=1280@width=416@' cfg/yolo_training.cfg\n",
        "!sed -i '5 s@height=1280@height=416@' cfg/yolo_training.cfg"
      ],
      "execution_count": 7,
      "outputs": []
    },
    {
      "cell_type": "code",
      "source": [
        "!> yolor.yaml\n",
        "!echo -e \"train: /content/images\\nval: /content/images\\nnc: 1\\nnames: ['Person']\" > yolor.yaml"
      ],
      "metadata": {
        "id": "JTaEarsm8I4I"
      },
      "execution_count": 8,
      "outputs": []
    },
    {
      "cell_type": "markdown",
      "source": [
        "**4) Prepare Dataset**"
      ],
      "metadata": {
        "id": "LCGZcZiF7xWx"
      }
    },
    {
      "cell_type": "code",
      "metadata": {
        "id": "Hd1oNele2V24",
        "colab": {
          "base_uri": "https://localhost:8080/"
        },
        "outputId": "330d52c6-5ed1-4770-8737-ff552e2623ff"
      },
      "source": [
        "!mkdir /content/images/\n",
        "\n",
        "import glob, os\n",
        "zip_list = glob.glob(\"/content/drive/MyDrive/dataset/person_test/*.zip\")\n",
        "rar_list = glob.glob(\"/content/drive/MyDrive/dataset/person_test/*.rar\")\n",
        "\n",
        "for zip in zip_list:\n",
        "  print(zip, \" zip\")\n",
        "  os.system(\"unzip {} -d /content/images/\".format(zip))\n",
        "\n",
        "for rar in rar_list:\n",
        "  print(rar, \" rar\")\n",
        "  os.system(\"unrar e {} /content/images/\".format(rar))"
      ],
      "execution_count": 9,
      "outputs": [
        {
          "output_type": "stream",
          "name": "stdout",
          "text": [
            "/content/drive/MyDrive/dataset/person_test/vci_inter_person.rar  rar\n",
            "/content/drive/MyDrive/dataset/person_test/Dataset_Human_ornek.rar  rar\n",
            "/content/drive/MyDrive/dataset/person_test/classes.rar  rar\n",
            "/content/drive/MyDrive/dataset/person_test/vci_round_person.rar  rar\n",
            "/content/drive/MyDrive/dataset/person_test/visdrone_cc_20_person.rar  rar\n",
            "/content/drive/MyDrive/dataset/person_test/visdrone_cc_21_person.rar  rar\n",
            "/content/drive/MyDrive/dataset/person_test/Dataset_Human.rar  rar\n"
          ]
        }
      ]
    },
    {
      "cell_type": "code",
      "source": [
        "!mkdir /content/labels/\n",
        "\n",
        "import glob, shutil\n",
        "\n",
        "text_files = glob.glob(\"/content/images/*.txt\")\n",
        "for text_file in text_files:\n",
        "  name = text_file.split(\"/\")[-1]\n",
        "  shutil.copy(text_file, \"/content/labels/{}\".format(name))"
      ],
      "metadata": {
        "id": "HozXGFybF5ym"
      },
      "execution_count": 10,
      "outputs": []
    },
    {
      "cell_type": "markdown",
      "metadata": {
        "id": "CeSiuLrXoAjc"
      },
      "source": [
        "\n",
        "\n",
        "**5) Start the Training**"
      ]
    },
    {
      "cell_type": "code",
      "metadata": {
        "id": "S3_g3jclUzMm",
        "colab": {
          "base_uri": "https://localhost:8080/"
        },
        "outputId": "04c31d76-d740-4dd8-eada-b77b502aa60b"
      },
      "source": [
        "%cd yolor\n",
        "!python train.py --batch-size 1 --img 416 416 --data 'yolor.yaml' --cfg cfg/yolo_training.cfg --weights '/content/drive/MyDrive/yolor_p6.pt' --device 0 --name yolor_p6 --hyp 'data/hyp.scratch.1280.yaml' --epochs 30 --output /content/drive/MyDrive/weights/person_test/person_test_416"
      ],
      "execution_count": null,
      "outputs": [
        {
          "output_type": "stream",
          "name": "stdout",
          "text": [
            "[Errno 2] No such file or directory: 'yolor'\n",
            "/yolor\n",
            "Using torch 1.7.0 CUDA:0 (Tesla T4, 15109MB)\n",
            "\n",
            "Namespace(adam=False, batch_size=1, bucket='', cache_images=False, cfg='cfg/yolo_training.cfg', data='yolor.yaml', device='0', epochs=30, evolve=False, exist_ok=False, global_rank=-1, hyp='data/hyp.scratch.1280.yaml', image_weights=False, img_size=[416, 416], local_rank=-1, log_imgs=16, multi_scale=False, name='yolor_p6', noautoanchor=False, nosave=False, notest=False, project='runs/train', rect=False, resume=False, save_dir='runs/train/yolor_p62', single_cls=False, sync_bn=False, total_batch_size=1, weights='/content/drive/MyDrive/yolor_p6.pt', workers=8, world_size=1)\n",
            "Start Tensorboard with \"tensorboard --logdir runs/train\", view at http://localhost:6006/\n",
            "NumExpr defaulting to 2 threads.\n",
            "Hyperparameters {'lr0': 0.01, 'lrf': 0.2, 'momentum': 0.937, 'weight_decay': 0.0005, 'warmup_epochs': 3.0, 'warmup_momentum': 0.8, 'warmup_bias_lr': 0.1, 'box': 0.05, 'cls': 0.5, 'cls_pw': 1.0, 'obj': 1.0, 'obj_pw': 1.0, 'iou_t': 0.2, 'anchor_t': 4.0, 'fl_gamma': 0.0, 'hsv_h': 0.015, 'hsv_s': 0.7, 'hsv_v': 0.4, 'degrees': 0.0, 'translate': 0.5, 'scale': 0.5, 'shear': 0.0, 'perspective': 0.0, 'flipud': 0.0, 'fliplr': 0.5, 'mosaic': 1.0, 'mixup': 0.0}\n",
            "Model Summary: 665 layers, 36838416 parameters, 36838416 gradients, 80.364773200 GFLOPS\n",
            "Transferred 850/862 items from /content/drive/MyDrive/yolor_p6.pt\n",
            "Optimizer groups: 145 .bias, 145 conv.weight, 149 other\n",
            "WARNING: --img-size 416 must be multiple of max stride 64, updating to 448\n",
            "WARNING: --img-size 416 must be multiple of max stride 64, updating to 448\n",
            "Scanning labels /content/labels.cache3 (2124 found, 0 missing, 1 empty, 47 duplicate, for 2125 images): 2125it [00:00, 11016.93it/s]\n",
            "Scanning labels /content/labels.cache3 (2124 found, 0 missing, 1 empty, 47 duplicate, for 2125 images): 2125it [00:00, 10949.91it/s]\n",
            "Image sizes 448 train, 448 test\n",
            "Using 0 dataloader workers\n",
            "Logging results to runs/train/yolor_p62\n",
            "Starting training for 30 epochs...\n",
            "\n",
            "     Epoch   gpu_mem       box       obj       cls     total   targets  img_size\n",
            "      0/29     1.51G   0.02117   0.02759         0   0.04876        46       448: 100% 2125/2125 [05:32<00:00,  6.39it/s]\n",
            "\n",
            "     Epoch   gpu_mem       box       obj       cls     total   targets  img_size\n",
            "      1/29     1.51G   0.01689   0.03497         0   0.05186       186       448: 100% 2125/2125 [05:11<00:00,  6.83it/s]\n",
            "\n",
            "     Epoch   gpu_mem       box       obj       cls     total   targets  img_size\n",
            "      2/29     1.51G   0.01539    0.0316         0   0.04699        54       448: 100% 2125/2125 [05:09<00:00,  6.86it/s]\n",
            "\n",
            "     Epoch   gpu_mem       box       obj       cls     total   targets  img_size\n",
            "      3/29     1.51G   0.01436   0.03021         0   0.04457        29       448: 100% 2125/2125 [05:08<00:00,  6.89it/s]\n",
            "               Class      Images     Targets           P           R      mAP@.5  mAP@.5:.95: 100% 1063/1063 [01:07<00:00, 15.65it/s]\n",
            "                 all    2.12e+03    1.48e+05       0.408      0.0542       0.079      0.0193\n",
            "\n",
            "     Epoch   gpu_mem       box       obj       cls     total   targets  img_size\n",
            "      4/29     1.07G   0.01306   0.03166         0   0.04472        72       448: 100% 2125/2125 [05:07<00:00,  6.91it/s]\n",
            "               Class      Images     Targets           P           R      mAP@.5  mAP@.5:.95: 100% 1063/1063 [01:07<00:00, 15.83it/s]\n",
            "                 all    2.12e+03    1.48e+05       0.265       0.154        0.11      0.0273\n",
            "\n",
            "     Epoch   gpu_mem       box       obj       cls     total   targets  img_size\n",
            "      5/29     1.07G   0.01239   0.03004         0   0.04242       129       448: 100% 2125/2125 [05:07<00:00,  6.90it/s]\n",
            "               Class      Images     Targets           P           R      mAP@.5  mAP@.5:.95: 100% 1063/1063 [01:06<00:00, 15.87it/s]\n",
            "                 all    2.12e+03    1.48e+05        0.36       0.136        0.13      0.0354\n",
            "\n",
            "     Epoch   gpu_mem       box       obj       cls     total   targets  img_size\n",
            "      6/29     1.07G   0.01238   0.03147         0   0.04384        76       448: 100% 2125/2125 [05:08<00:00,  6.89it/s]\n",
            "               Class      Images     Targets           P           R      mAP@.5  mAP@.5:.95: 100% 1063/1063 [01:06<00:00, 15.93it/s]\n",
            "                 all    2.12e+03    1.48e+05       0.389       0.123       0.141      0.0389\n",
            "\n",
            "     Epoch   gpu_mem       box       obj       cls     total   targets  img_size\n",
            "      7/29     1.07G   0.01253   0.02971         0   0.04224       132       448: 100% 2125/2125 [05:05<00:00,  6.97it/s]\n",
            "               Class      Images     Targets           P           R      mAP@.5  mAP@.5:.95: 100% 1063/1063 [01:07<00:00, 15.77it/s]\n",
            "                 all    2.12e+03    1.48e+05       0.352       0.114       0.127      0.0387\n",
            "\n",
            "     Epoch   gpu_mem       box       obj       cls     total   targets  img_size\n",
            "      8/29     1.07G   0.01282   0.03039         0   0.04322        39       448: 100% 2125/2125 [05:07<00:00,  6.91it/s]\n",
            "               Class      Images     Targets           P           R      mAP@.5  mAP@.5:.95: 100% 1063/1063 [01:07<00:00, 15.84it/s]\n",
            "                 all    2.12e+03    1.48e+05       0.416        0.13       0.147      0.0427\n",
            "\n",
            "     Epoch   gpu_mem       box       obj       cls     total   targets  img_size\n",
            "      9/29     1.07G   0.01155   0.02771         0   0.03926        79       448: 100% 2125/2125 [05:08<00:00,  6.89it/s]\n",
            "               Class      Images     Targets           P           R      mAP@.5  mAP@.5:.95: 100% 1063/1063 [01:07<00:00, 15.79it/s]\n",
            "                 all    2.12e+03    1.48e+05       0.379       0.144       0.163      0.0478\n",
            "\n",
            "     Epoch   gpu_mem       box       obj       cls     total   targets  img_size\n",
            "     10/29     1.07G   0.01187   0.02773         0    0.0396        32       448: 100% 2125/2125 [05:07<00:00,  6.91it/s]\n",
            "               Class      Images     Targets           P           R      mAP@.5  mAP@.5:.95: 100% 1063/1063 [01:07<00:00, 15.76it/s]\n",
            "                 all    2.12e+03    1.48e+05       0.394       0.154       0.173      0.0526\n",
            "\n",
            "     Epoch   gpu_mem       box       obj       cls     total   targets  img_size\n",
            "     11/29     1.07G   0.01164   0.02758         0   0.03922       158       448: 100% 2125/2125 [05:08<00:00,  6.89it/s]\n",
            "               Class      Images     Targets           P           R      mAP@.5  mAP@.5:.95: 100% 1063/1063 [01:07<00:00, 15.84it/s]\n",
            "                 all    2.12e+03    1.48e+05       0.379       0.142       0.161      0.0512\n",
            "\n",
            "     Epoch   gpu_mem       box       obj       cls     total   targets  img_size\n",
            "     12/29     1.07G   0.01114   0.02605         0   0.03719       144       448: 100% 2125/2125 [05:06<00:00,  6.93it/s]\n",
            "               Class      Images     Targets           P           R      mAP@.5  mAP@.5:.95: 100% 1063/1063 [01:06<00:00, 15.96it/s]\n",
            "                 all    2.12e+03    1.48e+05       0.454       0.119       0.165        0.05\n",
            "\n",
            "     Epoch   gpu_mem       box       obj       cls     total   targets  img_size\n",
            "     13/29     1.07G   0.01136   0.02714         0    0.0385       125       448: 100% 2125/2125 [05:08<00:00,  6.90it/s]\n",
            "               Class      Images     Targets           P           R      mAP@.5  mAP@.5:.95: 100% 1063/1063 [01:07<00:00, 15.71it/s]\n",
            "                 all    2.12e+03    1.48e+05       0.397        0.14       0.177      0.0555\n",
            "\n",
            "     Epoch   gpu_mem       box       obj       cls     total   targets  img_size\n",
            "     14/29     1.07G   0.01124   0.02665         0   0.03789        95       448: 100% 2125/2125 [05:08<00:00,  6.88it/s]\n",
            "               Class      Images     Targets           P           R      mAP@.5  mAP@.5:.95: 100% 1063/1063 [01:06<00:00, 15.93it/s]\n",
            "                 all    2.12e+03    1.48e+05       0.455       0.125       0.169      0.0555\n",
            "\n",
            "     Epoch   gpu_mem       box       obj       cls     total   targets  img_size\n",
            "     15/29     1.07G   0.01102   0.02661         0   0.03763        51       448: 100% 2125/2125 [05:10<00:00,  6.84it/s]\n",
            "               Class      Images     Targets           P           R      mAP@.5  mAP@.5:.95: 100% 1063/1063 [01:07<00:00, 15.68it/s]\n",
            "                 all    2.12e+03    1.48e+05       0.393       0.145       0.173      0.0556\n",
            "\n",
            "     Epoch   gpu_mem       box       obj       cls     total   targets  img_size\n",
            "     16/29     1.07G   0.01089    0.0267         0   0.03759       105       448: 100% 2125/2125 [05:08<00:00,  6.90it/s]\n",
            "               Class      Images     Targets           P           R      mAP@.5  mAP@.5:.95: 100% 1063/1063 [01:07<00:00, 15.81it/s]\n",
            "                 all    2.12e+03    1.48e+05       0.412       0.129        0.16      0.0524\n",
            "\n",
            "     Epoch   gpu_mem       box       obj       cls     total   targets  img_size\n",
            "     17/29     1.07G   0.01114   0.02632         0   0.03746       107       448: 100% 2125/2125 [05:09<00:00,  6.87it/s]\n",
            "               Class      Images     Targets           P           R      mAP@.5  mAP@.5:.95: 100% 1063/1063 [01:08<00:00, 15.63it/s]\n",
            "                 all    2.12e+03    1.48e+05       0.332       0.145       0.161       0.052\n",
            "\n",
            "     Epoch   gpu_mem       box       obj       cls     total   targets  img_size\n",
            "     18/29     1.07G    0.0114   0.02455         0   0.03595         4       448: 100% 2125/2125 [05:08<00:00,  6.88it/s]\n",
            "               Class      Images     Targets           P           R      mAP@.5  mAP@.5:.95: 100% 1063/1063 [01:06<00:00, 15.89it/s]\n",
            "                 all    2.12e+03    1.48e+05       0.422       0.142       0.185      0.0587\n",
            "\n",
            "     Epoch   gpu_mem       box       obj       cls     total   targets  img_size\n",
            "     19/29     1.07G     0.011   0.02654         0   0.03754        57       448: 100% 2125/2125 [05:06<00:00,  6.94it/s]\n",
            "               Class      Images     Targets           P           R      mAP@.5  mAP@.5:.95: 100% 1063/1063 [01:07<00:00, 15.82it/s]\n",
            "                 all    2.12e+03    1.48e+05       0.401        0.15       0.184      0.0578\n",
            "\n",
            "     Epoch   gpu_mem       box       obj       cls     total   targets  img_size\n",
            "     20/29     1.07G   0.01107   0.02713         0    0.0382        48       448: 100% 2125/2125 [05:06<00:00,  6.93it/s]\n",
            "               Class      Images     Targets           P           R      mAP@.5  mAP@.5:.95: 100% 1063/1063 [01:06<00:00, 15.91it/s]\n",
            "                 all    2.12e+03    1.48e+05       0.429       0.132       0.179      0.0581\n",
            "\n",
            "     Epoch   gpu_mem       box       obj       cls     total   targets  img_size\n",
            "     21/29     1.07G   0.01061   0.02468         0   0.03529        43       448: 100% 2125/2125 [05:07<00:00,  6.92it/s]\n",
            "               Class      Images     Targets           P           R      mAP@.5  mAP@.5:.95: 100% 1063/1063 [01:06<00:00, 16.03it/s]\n",
            "                 all    2.12e+03    1.48e+05       0.426       0.138       0.185      0.0616\n",
            "\n",
            "     Epoch   gpu_mem       box       obj       cls     total   targets  img_size\n",
            "     22/29     1.07G   0.01065   0.02451         0   0.03516        46       448: 100% 2125/2125 [05:08<00:00,  6.89it/s]\n",
            "               Class      Images     Targets           P           R      mAP@.5  mAP@.5:.95: 100% 1063/1063 [01:05<00:00, 16.13it/s]\n",
            "                 all    2.12e+03    1.48e+05       0.418       0.138       0.173      0.0593\n",
            "\n",
            "     Epoch   gpu_mem       box       obj       cls     total   targets  img_size\n",
            "     23/29     1.07G   0.01072   0.02588         0   0.03661        83       448: 100% 2125/2125 [05:05<00:00,  6.95it/s]\n",
            "               Class      Images     Targets           P           R      mAP@.5  mAP@.5:.95: 100% 1063/1063 [01:07<00:00, 15.86it/s]\n",
            "                 all    2.12e+03    1.48e+05       0.423       0.149        0.19      0.0609\n",
            "\n",
            "     Epoch   gpu_mem       box       obj       cls     total   targets  img_size\n",
            "     24/29     1.07G   0.01076    0.0249         0   0.03565        94       448: 100% 2125/2125 [05:07<00:00,  6.91it/s]\n",
            "               Class      Images     Targets           P           R      mAP@.5  mAP@.5:.95: 100% 1063/1063 [01:06<00:00, 15.95it/s]\n",
            "                 all    2.12e+03    1.48e+05       0.467       0.131       0.186      0.0623\n",
            "\n",
            "     Epoch   gpu_mem       box       obj       cls     total   targets  img_size\n",
            "     25/29     1.07G   0.01057   0.02501         0   0.03557        29       448: 100% 2125/2125 [05:05<00:00,  6.95it/s]\n",
            "               Class      Images     Targets           P           R      mAP@.5  mAP@.5:.95: 100% 1063/1063 [01:06<00:00, 16.00it/s]\n",
            "                 all    2.12e+03    1.48e+05       0.426       0.145       0.187      0.0618\n",
            "\n",
            "     Epoch   gpu_mem       box       obj       cls     total   targets  img_size\n",
            "     26/29     1.07G   0.01072   0.02638         0    0.0371        34       448: 100% 2125/2125 [05:08<00:00,  6.89it/s]\n",
            "               Class      Images     Targets           P           R      mAP@.5  mAP@.5:.95: 100% 1063/1063 [01:06<00:00, 15.92it/s]\n",
            "                 all    2.12e+03    1.48e+05       0.443       0.144       0.196      0.0661\n",
            "\n",
            "     Epoch   gpu_mem       box       obj       cls     total   targets  img_size\n",
            "     27/29     1.07G   0.01072   0.02424         0   0.03496        10       448: 100% 2125/2125 [05:09<00:00,  6.86it/s]\n",
            "               Class      Images     Targets           P           R      mAP@.5  mAP@.5:.95: 100% 1063/1063 [01:06<00:00, 15.92it/s]\n",
            "                 all    2.12e+03    1.48e+05       0.434       0.147       0.192      0.0649\n",
            "\n",
            "     Epoch   gpu_mem       box       obj       cls     total   targets  img_size\n",
            "     28/29     1.07G   0.01047     0.025         0   0.03547       154       448: 100% 2125/2125 [05:09<00:00,  6.87it/s]\n",
            "               Class      Images     Targets           P           R      mAP@.5  mAP@.5:.95: 100% 1063/1063 [01:06<00:00, 15.95it/s]\n",
            "                 all    2.12e+03    1.48e+05       0.405       0.146       0.184      0.0647\n",
            "\n",
            "     Epoch   gpu_mem       box       obj       cls     total   targets  img_size\n",
            "     29/29     1.07G  0.008267   0.01956         0   0.02783        37       448:  15% 322/2125 [00:50<04:58,  6.05it/s]"
          ]
        }
      ]
    }
  ]
}