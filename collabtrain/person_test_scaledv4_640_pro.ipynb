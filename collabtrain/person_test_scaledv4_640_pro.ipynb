{
  "nbformat": 4,
  "nbformat_minor": 0,
  "metadata": {
    "colab": {
      "name": "person_test_scaledv4_640_pro.ipynb",
      "provenance": [],
      "collapsed_sections": []
    },
    "kernelspec": {
      "name": "python3",
      "display_name": "Python 3"
    },
    "accelerator": "GPU"
  },
  "cells": [
    {
      "cell_type": "markdown",
      "metadata": {
        "id": "wHBQcQzjD6HJ"
      },
      "source": [
        "**Connect google drive**"
      ]
    },
    {
      "cell_type": "code",
      "metadata": {
        "id": "bwp6NIrsZZFP"
      },
      "source": [
        "# Check if NVIDIA GPU is enabled\n",
        "!nvidia-smi"
      ],
      "execution_count": null,
      "outputs": []
    },
    {
      "cell_type": "code",
      "metadata": {
        "id": "9e9ZW3sqMEPO"
      },
      "source": [
        "from google.colab import drive\n",
        "drive.mount('/content/drive')"
      ],
      "execution_count": null,
      "outputs": []
    },
    {
      "cell_type": "markdown",
      "metadata": {
        "id": "t7utW4in4azV"
      },
      "source": [
        "**1) Clone the Darknet**\n",
        "\n"
      ]
    },
    {
      "cell_type": "code",
      "metadata": {
        "id": "e03U7Zi-qMr2"
      },
      "source": [
        "!git clone https://github.com/AlexeyAB/darknet"
      ],
      "execution_count": null,
      "outputs": []
    },
    {
      "cell_type": "markdown",
      "metadata": {
        "id": "7gDOF3mU-TAn"
      },
      "source": [
        "**2) Compile Darknet using Nvidia GPU**\n"
      ]
    },
    {
      "cell_type": "code",
      "metadata": {
        "id": "5H-Taj06Tw1c"
      },
      "source": [
        "# change makefile to have GPU and OPENCV enabled\n",
        "%cd darknet\n",
        "!sed -i 's/OPENCV=0/OPENCV=1/' Makefile\n",
        "!sed -i 's/GPU=0/GPU=1/' Makefile\n",
        "!sed -i 's/CUDNN=0/CUDNN=1/' Makefile\n",
        "!make"
      ],
      "execution_count": null,
      "outputs": []
    },
    {
      "cell_type": "markdown",
      "metadata": {
        "id": "gAOLtA_qI9vF"
      },
      "source": [
        "**3) Configure Darknet network for training YOLO V3**\n",
        "\n",
        "**NOTE:**\n",
        "\n",
        "FILTER = (c+5)*3\n",
        "\n",
        "max_batches = c*2000 (unless it's smaller than 6000)\n",
        "\n",
        "steps = %80, %90*max_batches\n"
      ]
    },
    {
      "cell_type": "code",
      "metadata": {
        "id": "s-RpscgU853t"
      },
      "source": [
        "!cp cfg/yolov4-csp.cfg cfg/yolov4-training.cfg"
      ],
      "execution_count": null,
      "outputs": []
    },
    {
      "cell_type": "code",
      "metadata": {
        "id": "5ZgVQRop_vwR"
      },
      "source": [
        "!sed -i 's/batch=64/batch=64/' cfg/yolov4-training.cfg\n",
        "!sed -i 's/subdivisions=8/subdivisions=32/' cfg/yolov4-training.cfg\n",
        "!sed -i 's/max_batches = 500200/max_batches = 6000/' cfg/yolov4-training.cfg\n",
        "!sed -i 's/steps=400000,450000/steps=4800,5400/' cfg/yolov4-training.cfg\n",
        "!sed -i '1034 s@classes=80@classes=1@' cfg/yolov4-training.cfg\n",
        "!sed -i '1148 s@classes=80@classes=1@' cfg/yolov4-training.cfg\n",
        "!sed -i '1262 s@classes=80@classes=1@' cfg/yolov4-training.cfg\n",
        "!sed -i '1027 s@filters=255@filters=18@' cfg/yolov4-training.cfg\n",
        "!sed -i '1141 s@filters=255@filters=18@' cfg/yolov4-training.cfg\n",
        "!sed -i '1255 s@filters=255@filters=18@' cfg/yolov4-training.cfg\n",
        "!sed -i '8 s@width=512@width=640@' cfg/yolov4-training.cfg\n",
        "!sed -i '9 s@height=512@height=640@' cfg/yolov4-training.cfg"
      ],
      "execution_count": null,
      "outputs": []
    },
    {
      "cell_type": "code",
      "metadata": {
        "id": "7AIBw_psIclz"
      },
      "source": [
        "!printf \"person\\n\" > data/obj.names\n",
        "!echo -e 'classes= 1\\ntrain  = data/train.txt\\nnames = data/obj.names\\nbackup = /content/drive/MyDrive/weights/person_test/person_test_640' > data/obj.data\n",
        "!mkdir data/obj"
      ],
      "execution_count": null,
      "outputs": []
    },
    {
      "cell_type": "code",
      "metadata": {
        "id": "eZlkzFMW7I_N"
      },
      "source": [
        "!wget https://github.com/AlexeyAB/darknet/releases/download/darknet_yolo_v4_pre/yolov4-csp.conv.142"
      ],
      "execution_count": null,
      "outputs": []
    },
    {
      "cell_type": "code",
      "metadata": {
        "id": "Hd1oNele2V24"
      },
      "source": [
        "!mkdir /content/images/\n",
        "\n",
        "import glob, os\n",
        "zip_list = glob.glob(\"/content/drive/MyDrive/dataset/person_test/*.zip\")\n",
        "rar_list = glob.glob(\"/content/drive/MyDrive/dataset/person_test/*.rar\")\n",
        "\n",
        "for zip in zip_list:\n",
        "  print(zip, \" zip\")\n",
        "  os.system(\"unzip {} -d /content/images/\".format(zip))\n",
        "\n",
        "for rar in rar_list:\n",
        "  print(rar, \" rar\")\n",
        "  os.system(\"unrar e {} /content/images/\".format(rar))"
      ],
      "execution_count": null,
      "outputs": []
    },
    {
      "cell_type": "code",
      "metadata": {
        "id": "5I_0ht7ITMUu"
      },
      "source": [
        "import glob\n",
        "images_list = glob.glob(\"/content/images/*.jpg\")\n",
        "for txt in glob.glob(\"/content/images/*.txt\"):\n",
        "  read = []\n",
        "  write = []\n",
        "  f = open(\"{}\".format(txt), \"r+\")\n",
        "  read = f.readlines()\n",
        "  for i in range(len(read)):\n",
        "      a = read[i]\n",
        "      another_l = a.split(\" \")\n",
        "      if another_l[0] != \"0\":\n",
        "          another_l[0] = \"0\"\n",
        "      write.append(another_l)\n",
        "  f = open(\"{}\".format(txt), \"w\")\n",
        "  for i in range(len(write)):\n",
        "      for j in range(len(write[i])):\n",
        "          if write[i][j] == write[i][-1]:\n",
        "              pass\n",
        "          else:\n",
        "              write[i][j] += \" \"\n",
        "      f.writelines(write[i])\n",
        "  f.close()\n",
        "  "
      ],
      "execution_count": null,
      "outputs": []
    },
    {
      "cell_type": "code",
      "metadata": {
        "id": "EzygoAtMSnon"
      },
      "source": [
        "#Create training.txt file\n",
        "file = open(\"data/train.txt\", \"w\") \n",
        "file.write(\"\\n\".join(images_list)) \n",
        "file.close() "
      ],
      "execution_count": null,
      "outputs": []
    },
    {
      "cell_type": "markdown",
      "metadata": {
        "id": "CeSiuLrXoAjc"
      },
      "source": [
        "\n",
        "\n",
        "**6) Start the training**\n",
        "\n",
        "darknet53.conv.74"
      ]
    },
    {
      "cell_type": "code",
      "metadata": {
        "id": "S3_g3jclUzMm"
      },
      "source": [
        "# Start the training\n",
        "!./darknet detector train data/obj.data cfg/yolov4-training.cfg /content/drive/MyDrive/weights/person_test/person_test_640/last.weights -dont_show"
      ],
      "execution_count": null,
      "outputs": []
    }
  ]
}